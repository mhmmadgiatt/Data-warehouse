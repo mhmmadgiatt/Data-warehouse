{
  "cells": [
    {
      "cell_type": "markdown",
      "metadata": {
        "id": "H9wADwK78DCz"
      },
      "source": [
        "# UJIAN TENGAH SEMESTER DATA WAREHOUSE\n",
        "**Anggota Kelompok:**\n",
        "- Amir Salim - 140810210015\n",
        "- Muhammad Giat - 140810210013\n",
        "- Aryan Dafi Maulana - 140810210012\n",
        "- Varian Avila Faldi - 140810210055\n"
      ]
    },
    {
      "cell_type": "markdown",
      "metadata": {
        "id": "H-z4QGlO8DC1"
      },
      "source": [
        "### Import Library yang Digunakan"
      ]
    },
    {
      "cell_type": "code",
      "execution_count": 78,
      "metadata": {
        "id": "FVYwaObI8DC1"
      },
      "outputs": [],
      "source": [
        "# Input semua library yang dibutuhkan\n",
        "\n",
        "import pandas as pd"
      ]
    },
    {
      "cell_type": "markdown",
      "metadata": {
        "id": "sXU2GBYu8DC1"
      },
      "source": [
        "### Gathering Data"
      ]
    },
    {
      "cell_type": "code",
      "execution_count": 79,
      "metadata": {
        "colab": {
          "base_uri": "https://localhost:8080/",
          "height": 206
        },
        "id": "zjCBk1BI8DC1",
        "outputId": "85ded272-1a24-4701-8d2c-8b07b560d0d0"
      },
      "outputs": [
        {
          "data": {
            "text/html": [
              "<div>\n",
              "<style scoped>\n",
              "    .dataframe tbody tr th:only-of-type {\n",
              "        vertical-align: middle;\n",
              "    }\n",
              "\n",
              "    .dataframe tbody tr th {\n",
              "        vertical-align: top;\n",
              "    }\n",
              "\n",
              "    .dataframe thead th {\n",
              "        text-align: right;\n",
              "    }\n",
              "</style>\n",
              "<table border=\"1\" class=\"dataframe\">\n",
              "  <thead>\n",
              "    <tr style=\"text-align: right;\">\n",
              "      <th></th>\n",
              "      <th>GudangID</th>\n",
              "      <th>Negara</th>\n",
              "      <th>Kota</th>\n",
              "      <th>Kapasitas (Ton)</th>\n",
              "    </tr>\n",
              "  </thead>\n",
              "  <tbody>\n",
              "    <tr>\n",
              "      <th>0</th>\n",
              "      <td>PMI-W001</td>\n",
              "      <td>Indonesia</td>\n",
              "      <td>Surabaya</td>\n",
              "      <td>25000.0</td>\n",
              "    </tr>\n",
              "    <tr>\n",
              "      <th>1</th>\n",
              "      <td>PMI-W002</td>\n",
              "      <td>Rusia</td>\n",
              "      <td>Moskow</td>\n",
              "      <td>20000.0</td>\n",
              "    </tr>\n",
              "    <tr>\n",
              "      <th>2</th>\n",
              "      <td>PMI-W003</td>\n",
              "      <td>Jerman</td>\n",
              "      <td>Hamburg</td>\n",
              "      <td>18000.0</td>\n",
              "    </tr>\n",
              "    <tr>\n",
              "      <th>3</th>\n",
              "      <td>PMI-W004</td>\n",
              "      <td>Italia</td>\n",
              "      <td>Napoli</td>\n",
              "      <td>15000.0</td>\n",
              "    </tr>\n",
              "    <tr>\n",
              "      <th>4</th>\n",
              "      <td>PMI-W005</td>\n",
              "      <td>Spanyol</td>\n",
              "      <td>Barcelona</td>\n",
              "      <td>22000.0</td>\n",
              "    </tr>\n",
              "  </tbody>\n",
              "</table>\n",
              "</div>"
            ],
            "text/plain": [
              "   GudangID     Negara       Kota  Kapasitas (Ton)\n",
              "0  PMI-W001  Indonesia   Surabaya          25000.0\n",
              "1  PMI-W002      Rusia     Moskow          20000.0\n",
              "2  PMI-W003     Jerman    Hamburg          18000.0\n",
              "3  PMI-W004     Italia     Napoli          15000.0\n",
              "4  PMI-W005    Spanyol  Barcelona          22000.0"
            ]
          },
          "execution_count": 79,
          "metadata": {},
          "output_type": "execute_result"
        }
      ],
      "source": [
        "# Read dataset gudang_philip.csv\n",
        "table_gudang_p_df = pd.read_csv('https://raw.githubusercontent.com/mhmmadgiatt/Data-warehouse/main/gudang_philip.csv')\n",
        "table_gudang_p_df.head()"
      ]
    },
    {
      "cell_type": "code",
      "execution_count": 80,
      "metadata": {
        "colab": {
          "base_uri": "https://localhost:8080/",
          "height": 206
        },
        "id": "5KR0G73ETd8H",
        "outputId": "903dccd7-0b1f-4668-94b4-b0eefa28f363"
      },
      "outputs": [
        {
          "data": {
            "text/html": [
              "<div>\n",
              "<style scoped>\n",
              "    .dataframe tbody tr th:only-of-type {\n",
              "        vertical-align: middle;\n",
              "    }\n",
              "\n",
              "    .dataframe tbody tr th {\n",
              "        vertical-align: top;\n",
              "    }\n",
              "\n",
              "    .dataframe thead th {\n",
              "        text-align: right;\n",
              "    }\n",
              "</style>\n",
              "<table border=\"1\" class=\"dataframe\">\n",
              "  <thead>\n",
              "    <tr style=\"text-align: right;\">\n",
              "      <th></th>\n",
              "      <th>GudangID</th>\n",
              "      <th>Negara Bagian</th>\n",
              "      <th>Kota</th>\n",
              "      <th>Kapasitas (Ton)</th>\n",
              "    </tr>\n",
              "  </thead>\n",
              "  <tbody>\n",
              "    <tr>\n",
              "      <th>0</th>\n",
              "      <td>ALT-W001</td>\n",
              "      <td>Virginia</td>\n",
              "      <td>Norfolk</td>\n",
              "      <td>12000</td>\n",
              "    </tr>\n",
              "    <tr>\n",
              "      <th>1</th>\n",
              "      <td>ALT-W002</td>\n",
              "      <td>Pennsylvania</td>\n",
              "      <td>Philadelphia</td>\n",
              "      <td>10000</td>\n",
              "    </tr>\n",
              "    <tr>\n",
              "      <th>2</th>\n",
              "      <td>ALT-W003</td>\n",
              "      <td>Illinois</td>\n",
              "      <td>Joliet</td>\n",
              "      <td>8000</td>\n",
              "    </tr>\n",
              "    <tr>\n",
              "      <th>3</th>\n",
              "      <td>ALT-W004</td>\n",
              "      <td>North Carolina</td>\n",
              "      <td>Greensboro</td>\n",
              "      <td>14000</td>\n",
              "    </tr>\n",
              "    <tr>\n",
              "      <th>4</th>\n",
              "      <td>ALT-W005</td>\n",
              "      <td>Kentucky</td>\n",
              "      <td>Lexington</td>\n",
              "      <td>11000</td>\n",
              "    </tr>\n",
              "  </tbody>\n",
              "</table>\n",
              "</div>"
            ],
            "text/plain": [
              "   GudangID   Negara Bagian          Kota  Kapasitas (Ton)\n",
              "0  ALT-W001        Virginia       Norfolk            12000\n",
              "1  ALT-W002    Pennsylvania  Philadelphia            10000\n",
              "2  ALT-W003        Illinois        Joliet             8000\n",
              "3  ALT-W004  North Carolina    Greensboro            14000\n",
              "4  ALT-W005        Kentucky     Lexington            11000"
            ]
          },
          "execution_count": 80,
          "metadata": {},
          "output_type": "execute_result"
        }
      ],
      "source": [
        "# Read dataset gudang_altria.csv\n",
        "table_gudang_al_df = pd.read_csv('https://raw.githubusercontent.com/mhmmadgiatt/Data-warehouse/main/gudang_altria.csv')\n",
        "table_gudang_al_df.head()"
      ]
    },
    {
      "cell_type": "code",
      "execution_count": 81,
      "metadata": {
        "colab": {
          "base_uri": "https://localhost:8080/",
          "height": 206
        },
        "id": "OrmhhSRkqfZQ",
        "outputId": "7cd1d2c2-055d-4b71-a6d1-61de219e5e34"
      },
      "outputs": [
        {
          "data": {
            "text/html": [
              "<div>\n",
              "<style scoped>\n",
              "    .dataframe tbody tr th:only-of-type {\n",
              "        vertical-align: middle;\n",
              "    }\n",
              "\n",
              "    .dataframe tbody tr th {\n",
              "        vertical-align: top;\n",
              "    }\n",
              "\n",
              "    .dataframe thead th {\n",
              "        text-align: right;\n",
              "    }\n",
              "</style>\n",
              "<table border=\"1\" class=\"dataframe\">\n",
              "  <thead>\n",
              "    <tr style=\"text-align: right;\">\n",
              "      <th></th>\n",
              "      <th>PabrikID</th>\n",
              "      <th>Negara</th>\n",
              "      <th>Kota</th>\n",
              "      <th>KapasitasProduksi (Ton/Tahun)</th>\n",
              "    </tr>\n",
              "  </thead>\n",
              "  <tbody>\n",
              "    <tr>\n",
              "      <th>0</th>\n",
              "      <td>PMI-F001</td>\n",
              "      <td>Indonesia</td>\n",
              "      <td>Karawang</td>\n",
              "      <td>150000</td>\n",
              "    </tr>\n",
              "    <tr>\n",
              "      <th>1</th>\n",
              "      <td>PMI-F002</td>\n",
              "      <td>Rusia</td>\n",
              "      <td>St. Petersburg</td>\n",
              "      <td>120000</td>\n",
              "    </tr>\n",
              "    <tr>\n",
              "      <th>2</th>\n",
              "      <td>PMI-F003</td>\n",
              "      <td>Jerman</td>\n",
              "      <td>Berlin</td>\n",
              "      <td>100000</td>\n",
              "    </tr>\n",
              "    <tr>\n",
              "      <th>3</th>\n",
              "      <td>PMI-F004</td>\n",
              "      <td>Italia</td>\n",
              "      <td>Bologna</td>\n",
              "      <td>80000</td>\n",
              "    </tr>\n",
              "    <tr>\n",
              "      <th>4</th>\n",
              "      <td>PMI-F005</td>\n",
              "      <td>Spanyol</td>\n",
              "      <td>Madrid</td>\n",
              "      <td>90000</td>\n",
              "    </tr>\n",
              "  </tbody>\n",
              "</table>\n",
              "</div>"
            ],
            "text/plain": [
              "   PabrikID     Negara            Kota  KapasitasProduksi (Ton/Tahun)\n",
              "0  PMI-F001  Indonesia        Karawang                         150000\n",
              "1  PMI-F002      Rusia  St. Petersburg                         120000\n",
              "2  PMI-F003     Jerman          Berlin                         100000\n",
              "3  PMI-F004     Italia         Bologna                          80000\n",
              "4  PMI-F005    Spanyol          Madrid                          90000"
            ]
          },
          "execution_count": 81,
          "metadata": {},
          "output_type": "execute_result"
        }
      ],
      "source": [
        "# Read dataset pabrik_philip.csv\n",
        "table_pabrik_p_df = pd.read_csv('https://raw.githubusercontent.com/mhmmadgiatt/Data-warehouse/main/pabrik_philip.csv')\n",
        "table_pabrik_p_df.head()"
      ]
    },
    {
      "cell_type": "code",
      "execution_count": 82,
      "metadata": {
        "colab": {
          "base_uri": "https://localhost:8080/",
          "height": 206
        },
        "id": "HVFZ-1KPM3kR",
        "outputId": "c12d5bda-fae8-4b2c-c073-4cbb148259b6"
      },
      "outputs": [
        {
          "data": {
            "text/html": [
              "<div>\n",
              "<style scoped>\n",
              "    .dataframe tbody tr th:only-of-type {\n",
              "        vertical-align: middle;\n",
              "    }\n",
              "\n",
              "    .dataframe tbody tr th {\n",
              "        vertical-align: top;\n",
              "    }\n",
              "\n",
              "    .dataframe thead th {\n",
              "        text-align: right;\n",
              "    }\n",
              "</style>\n",
              "<table border=\"1\" class=\"dataframe\">\n",
              "  <thead>\n",
              "    <tr style=\"text-align: right;\">\n",
              "      <th></th>\n",
              "      <th>PabrikID</th>\n",
              "      <th>Negara Bagian</th>\n",
              "      <th>Kota</th>\n",
              "      <th>KapasitasProduksi (Ton/Tahun)</th>\n",
              "    </tr>\n",
              "  </thead>\n",
              "  <tbody>\n",
              "    <tr>\n",
              "      <th>0</th>\n",
              "      <td>ALT-F001</td>\n",
              "      <td>Virginia</td>\n",
              "      <td>Richmond</td>\n",
              "      <td>60000</td>\n",
              "    </tr>\n",
              "    <tr>\n",
              "      <th>1</th>\n",
              "      <td>ALT-F002</td>\n",
              "      <td>Pennsylvania</td>\n",
              "      <td>Wilkes-Barre</td>\n",
              "      <td>50000</td>\n",
              "    </tr>\n",
              "    <tr>\n",
              "      <th>2</th>\n",
              "      <td>ALT-F003</td>\n",
              "      <td>Illinois</td>\n",
              "      <td>Chicago</td>\n",
              "      <td>40000</td>\n",
              "    </tr>\n",
              "    <tr>\n",
              "      <th>3</th>\n",
              "      <td>ALT-F004</td>\n",
              "      <td>North Carolina</td>\n",
              "      <td>Winston-Salem</td>\n",
              "      <td>55000</td>\n",
              "    </tr>\n",
              "    <tr>\n",
              "      <th>4</th>\n",
              "      <td>ALT-F005</td>\n",
              "      <td>Kentucky</td>\n",
              "      <td>Louisville</td>\n",
              "      <td>45000</td>\n",
              "    </tr>\n",
              "  </tbody>\n",
              "</table>\n",
              "</div>"
            ],
            "text/plain": [
              "   PabrikID   Negara Bagian           Kota  KapasitasProduksi (Ton/Tahun)\n",
              "0  ALT-F001        Virginia       Richmond                          60000\n",
              "1  ALT-F002    Pennsylvania   Wilkes-Barre                          50000\n",
              "2  ALT-F003        Illinois        Chicago                          40000\n",
              "3  ALT-F004  North Carolina  Winston-Salem                          55000\n",
              "4  ALT-F005        Kentucky     Louisville                          45000"
            ]
          },
          "execution_count": 82,
          "metadata": {},
          "output_type": "execute_result"
        }
      ],
      "source": [
        "# Read dataset pabrik_altria.csv\n",
        "table_pabrik_al_df = pd.read_csv('https://raw.githubusercontent.com/mhmmadgiatt/Data-warehouse/main/pabrik_altria.csv')\n",
        "table_pabrik_al_df.head()"
      ]
    },
    {
      "cell_type": "code",
      "execution_count": 83,
      "metadata": {
        "colab": {
          "base_uri": "https://localhost:8080/",
          "height": 206
        },
        "id": "h38gCV__MbF1",
        "outputId": "05399506-25c4-4464-b176-4efad11be70d"
      },
      "outputs": [
        {
          "data": {
            "text/html": [
              "<div>\n",
              "<style scoped>\n",
              "    .dataframe tbody tr th:only-of-type {\n",
              "        vertical-align: middle;\n",
              "    }\n",
              "\n",
              "    .dataframe tbody tr th {\n",
              "        vertical-align: top;\n",
              "    }\n",
              "\n",
              "    .dataframe thead th {\n",
              "        text-align: right;\n",
              "    }\n",
              "</style>\n",
              "<table border=\"1\" class=\"dataframe\">\n",
              "  <thead>\n",
              "    <tr style=\"text-align: right;\">\n",
              "      <th></th>\n",
              "      <th>TransaksiID</th>\n",
              "      <th>Tahun</th>\n",
              "      <th>Negara</th>\n",
              "      <th>JumlahProduk</th>\n",
              "      <th>TotalPenjualan (USD)</th>\n",
              "      <th>GudangID</th>\n",
              "    </tr>\n",
              "  </thead>\n",
              "  <tbody>\n",
              "    <tr>\n",
              "      <th>0</th>\n",
              "      <td>PMI-T001</td>\n",
              "      <td>2022</td>\n",
              "      <td>Indonesia</td>\n",
              "      <td>2500000</td>\n",
              "      <td>250000000</td>\n",
              "      <td>PMI-W001</td>\n",
              "    </tr>\n",
              "    <tr>\n",
              "      <th>1</th>\n",
              "      <td>PMI-T002</td>\n",
              "      <td>2022</td>\n",
              "      <td>Rusia</td>\n",
              "      <td>1800000</td>\n",
              "      <td>180000000</td>\n",
              "      <td>PMI-W002</td>\n",
              "    </tr>\n",
              "    <tr>\n",
              "      <th>2</th>\n",
              "      <td>PMI-T003</td>\n",
              "      <td>2022</td>\n",
              "      <td>Jerman</td>\n",
              "      <td>1200000</td>\n",
              "      <td>120000000</td>\n",
              "      <td>PMI-W003</td>\n",
              "    </tr>\n",
              "    <tr>\n",
              "      <th>3</th>\n",
              "      <td>PMI-T004</td>\n",
              "      <td>2022</td>\n",
              "      <td>Italia</td>\n",
              "      <td>1000000</td>\n",
              "      <td>100000000</td>\n",
              "      <td>PMI-W004</td>\n",
              "    </tr>\n",
              "    <tr>\n",
              "      <th>4</th>\n",
              "      <td>PMI-T005</td>\n",
              "      <td>2022</td>\n",
              "      <td>Spanyol</td>\n",
              "      <td>1500000</td>\n",
              "      <td>150000000</td>\n",
              "      <td>PMI-W005</td>\n",
              "    </tr>\n",
              "  </tbody>\n",
              "</table>\n",
              "</div>"
            ],
            "text/plain": [
              "  TransaksiID  Tahun     Negara  JumlahProduk  TotalPenjualan (USD)  GudangID\n",
              "0    PMI-T001   2022  Indonesia       2500000             250000000  PMI-W001\n",
              "1    PMI-T002   2022      Rusia       1800000             180000000  PMI-W002\n",
              "2    PMI-T003   2022     Jerman       1200000             120000000  PMI-W003\n",
              "3    PMI-T004   2022     Italia       1000000             100000000  PMI-W004\n",
              "4    PMI-T005   2022    Spanyol       1500000             150000000  PMI-W005"
            ]
          },
          "execution_count": 83,
          "metadata": {},
          "output_type": "execute_result"
        }
      ],
      "source": [
        "# Read dataset transaksi_philip.csv\n",
        "table_transaksi_p_df = pd.read_csv('https://raw.githubusercontent.com/mhmmadgiatt/Data-warehouse/main/transaksi_philip.csv')\n",
        "table_transaksi_p_df.head()"
      ]
    },
    {
      "cell_type": "code",
      "execution_count": 84,
      "metadata": {
        "colab": {
          "base_uri": "https://localhost:8080/",
          "height": 206
        },
        "id": "51IclPVJTmG-",
        "outputId": "569baae9-d703-4773-a906-ae759efc07f3"
      },
      "outputs": [
        {
          "data": {
            "text/html": [
              "<div>\n",
              "<style scoped>\n",
              "    .dataframe tbody tr th:only-of-type {\n",
              "        vertical-align: middle;\n",
              "    }\n",
              "\n",
              "    .dataframe tbody tr th {\n",
              "        vertical-align: top;\n",
              "    }\n",
              "\n",
              "    .dataframe thead th {\n",
              "        text-align: right;\n",
              "    }\n",
              "</style>\n",
              "<table border=\"1\" class=\"dataframe\">\n",
              "  <thead>\n",
              "    <tr style=\"text-align: right;\">\n",
              "      <th></th>\n",
              "      <th>TransaksiID</th>\n",
              "      <th>Tahun</th>\n",
              "      <th>Negara Bagian</th>\n",
              "      <th>JumlahProduk</th>\n",
              "      <th>TotalPenjualan (USD)</th>\n",
              "      <th>GudangID</th>\n",
              "    </tr>\n",
              "  </thead>\n",
              "  <tbody>\n",
              "    <tr>\n",
              "      <th>0</th>\n",
              "      <td>ALT-T001</td>\n",
              "      <td>2022</td>\n",
              "      <td>Virginia</td>\n",
              "      <td>1000000</td>\n",
              "      <td>100000000</td>\n",
              "      <td>ALT-W001</td>\n",
              "    </tr>\n",
              "    <tr>\n",
              "      <th>1</th>\n",
              "      <td>ALT-T002</td>\n",
              "      <td>2022</td>\n",
              "      <td>Pennsylvania</td>\n",
              "      <td>800000</td>\n",
              "      <td>80000000</td>\n",
              "      <td>ALT-W002</td>\n",
              "    </tr>\n",
              "    <tr>\n",
              "      <th>2</th>\n",
              "      <td>ALT-T003</td>\n",
              "      <td>2022</td>\n",
              "      <td>Illinois</td>\n",
              "      <td>600000</td>\n",
              "      <td>60000000</td>\n",
              "      <td>ALT-W003</td>\n",
              "    </tr>\n",
              "    <tr>\n",
              "      <th>3</th>\n",
              "      <td>ALT-T004</td>\n",
              "      <td>2022</td>\n",
              "      <td>North Carolina</td>\n",
              "      <td>900000</td>\n",
              "      <td>90000000</td>\n",
              "      <td>ALT- W004</td>\n",
              "    </tr>\n",
              "    <tr>\n",
              "      <th>4</th>\n",
              "      <td>ALT-T005</td>\n",
              "      <td>2022</td>\n",
              "      <td>Kentucky</td>\n",
              "      <td>700000</td>\n",
              "      <td>70000000</td>\n",
              "      <td>ALT-W005</td>\n",
              "    </tr>\n",
              "  </tbody>\n",
              "</table>\n",
              "</div>"
            ],
            "text/plain": [
              "  TransaksiID  Tahun   Negara Bagian  JumlahProduk  TotalPenjualan (USD)  \\\n",
              "0    ALT-T001   2022        Virginia       1000000             100000000   \n",
              "1    ALT-T002   2022    Pennsylvania        800000              80000000   \n",
              "2    ALT-T003   2022        Illinois        600000              60000000   \n",
              "3    ALT-T004   2022  North Carolina        900000              90000000   \n",
              "4    ALT-T005   2022        Kentucky        700000              70000000   \n",
              "\n",
              "    GudangID  \n",
              "0   ALT-W001  \n",
              "1   ALT-W002  \n",
              "2   ALT-W003  \n",
              "3  ALT- W004  \n",
              "4   ALT-W005  "
            ]
          },
          "execution_count": 84,
          "metadata": {},
          "output_type": "execute_result"
        }
      ],
      "source": [
        "# Read dataset transaksi_altria.csv\n",
        "table_transaksi_al_df = pd.read_csv('https://raw.githubusercontent.com/mhmmadgiatt/Data-warehouse/main/transaksi_altria.csv')\n",
        "table_transaksi_al_df.head()"
      ]
    },
    {
      "cell_type": "markdown",
      "metadata": {
        "id": "EhN5R4hr8DC1"
      },
      "source": [
        "### Cleaning Data\n",
        "##### Pada tahap cleaning kita akan melakukan beberapa tahapan agar data lebih mudah dipahami dan lebih bersih untuk diolah\n",
        "- Menghapus Data Duplicate"
      ]
    },
    {
      "cell_type": "code",
      "execution_count": 85,
      "metadata": {},
      "outputs": [
        {
          "name": "stdout",
          "output_type": "stream",
          "text": [
            "Jumlah data duplikat pada tabel Gudang Philip:  4\n"
          ]
        }
      ],
      "source": [
        "# Check for duplicate data table_gudang_p_df\n",
        "duplicate_gudang_p = table_gudang_p_df.duplicated()\n",
        "\n",
        "# Print how many duplicates are in table_gudang_p_df\n",
        "print(\"Jumlah data duplikat pada tabel Gudang Philip: \", duplicate_gudang_p.sum())"
      ]
    },
    {
      "cell_type": "code",
      "execution_count": 86,
      "metadata": {},
      "outputs": [
        {
          "name": "stdout",
          "output_type": "stream",
          "text": [
            "Duplicates removed successfully!\n"
          ]
        }
      ],
      "source": [
        "# Delete duplicate data table_gudang_p_df\n",
        "table_gudang_p_df = table_gudang_p_df.drop_duplicates()\n",
        "\n",
        "# Success message\n",
        "print(\"Duplicates removed successfully!\")"
      ]
    },
    {
      "cell_type": "code",
      "execution_count": 87,
      "metadata": {},
      "outputs": [
        {
          "name": "stdout",
          "output_type": "stream",
          "text": [
            "Jumlah data duplikat pada tabel Gudang Philip:  0\n"
          ]
        }
      ],
      "source": [
        "# Print sum of duplicates\n",
        "print(\"Jumlah data duplikat pada tabel Gudang Philip: \", table_gudang_p_df.duplicated().sum())"
      ]
    },
    {
      "cell_type": "code",
      "execution_count": 88,
      "metadata": {},
      "outputs": [
        {
          "name": "stdout",
          "output_type": "stream",
          "text": [
            "Jumlah data duplikat pada tabel pabrik Altria:  5\n"
          ]
        }
      ],
      "source": [
        "# Print how many duplicates are in table_pabrik_al_df\n",
        "print(\"Jumlah data duplikat pada tabel pabrik Altria: \", table_pabrik_al_df.duplicated().sum())\n"
      ]
    },
    {
      "cell_type": "code",
      "execution_count": 89,
      "metadata": {},
      "outputs": [
        {
          "name": "stdout",
          "output_type": "stream",
          "text": [
            "Duplicates removed successfully!\n"
          ]
        }
      ],
      "source": [
        "# Delete duplicates\n",
        "table_pabrik_al_df = table_pabrik_al_df.drop_duplicates()\n",
        "\n",
        "# Success message\n",
        "print(\"Duplicates removed successfully!\")"
      ]
    },
    {
      "cell_type": "code",
      "execution_count": 90,
      "metadata": {},
      "outputs": [
        {
          "name": "stdout",
          "output_type": "stream",
          "text": [
            "Jumlah data duplikat yang tersisa:  0\n"
          ]
        }
      ],
      "source": [
        "# Print sum of duplicates\n",
        "print ( \"Jumlah data duplikat yang tersisa: \", table_pabrik_al_df.duplicated().sum())"
      ]
    },
    {
      "cell_type": "markdown",
      "metadata": {},
      "source": [
        "- Missing value\n",
        "###### Untuk mengatasi missing value baris dari data akan di drop\n"
      ]
    },
    {
      "cell_type": "code",
      "execution_count": 91,
      "metadata": {},
      "outputs": [
        {
          "name": "stdout",
          "output_type": "stream",
          "text": [
            "Jumlah data yang hilang pada tabel Gudang Philip:  8\n"
          ]
        }
      ],
      "source": [
        "# Check missing values in table_gudang_p_df\n",
        "missing_values = table_gudang_p_df.isnull().sum()\n",
        "\n",
        "# Print missing values in table_gudang_p_df\n",
        "print(\"Jumlah data yang hilang pada tabel Gudang Philip: \", missing_values.sum())"
      ]
    },
    {
      "cell_type": "code",
      "execution_count": 92,
      "metadata": {},
      "outputs": [
        {
          "name": "stdout",
          "output_type": "stream",
          "text": [
            "Data hilang berhasil dihapus!\n"
          ]
        }
      ],
      "source": [
        "# Drop missing values\n",
        "table_gudang_p_df = table_gudang_p_df.dropna()\n",
        "\n",
        "# Success message\n",
        "print(\"Data hilang berhasil dihapus!\")"
      ]
    },
    {
      "cell_type": "code",
      "execution_count": 93,
      "metadata": {},
      "outputs": [
        {
          "name": "stdout",
          "output_type": "stream",
          "text": [
            "Jumlah data yang hilang yang tersisa:  0\n"
          ]
        }
      ],
      "source": [
        "# Print sum of missing values\n",
        "print(\"Jumlah data yang hilang yang tersisa: \", table_gudang_p_df.isnull().sum().sum())"
      ]
    },
    {
      "cell_type": "markdown",
      "metadata": {},
      "source": [
        "- Mengubah nama kolom pada tabel Gudang, Pabrik, dan Transaksi"
      ]
    },
    {
      "cell_type": "code",
      "execution_count": 94,
      "metadata": {},
      "outputs": [
        {
          "name": "stdout",
          "output_type": "stream",
          "text": [
            "Nama kolom berhasil diubah!\n"
          ]
        }
      ],
      "source": [
        "# Rename column 'Negara Bagian' to 'Negara'\n",
        "table_gudang_al_df = table_gudang_al_df.rename(columns={'Negara Bagian': 'Negara'})\n",
        "table_pabrik_al_df = table_pabrik_al_df.rename(columns={'Negara Bagian': 'Negara'})\n",
        "table_transaksi_al_df = table_transaksi_al_df.rename(columns={'Negara Bagian': 'Negara'})\n",
        "\n",
        "# Success message\n",
        "print(\"Nama kolom berhasil diubah!\")"
      ]
    },
    {
      "cell_type": "markdown",
      "metadata": {
        "id": "XlWc-PNZxEu3"
      },
      "source": [
        "### Integrasi Data\n",
        "- Menggabungkan Dataset untuk Tabel Gudang, Pabrik, dan Transaksi"
      ]
    },
    {
      "cell_type": "code",
      "execution_count": 95,
      "metadata": {
        "id": "YwJIRF_zxNhO"
      },
      "outputs": [
        {
          "name": "stdout",
          "output_type": "stream",
          "text": [
            "Data berhasil digabungkan!\n"
          ]
        }
      ],
      "source": [
        "# Merge table_gudang_p_df and table_gudang_al_df\n",
        "gudang_df = pd.concat([table_gudang_p_df, table_gudang_al_df])\n",
        "\n",
        "# Merge table_pabrik_p_df and table_pabrik_al_df\n",
        "pabrik_df = pd.concat([table_pabrik_p_df, table_pabrik_al_df])\n",
        "\n",
        "# Merge table_transaksi_p_df and table_transaksi_al_df\n",
        "transaksi_df = pd.concat([table_transaksi_p_df, table_transaksi_al_df])\n",
        "\n",
        "# Success message\n",
        "print(\"Data berhasil digabungkan!\")"
      ]
    },
    {
      "cell_type": "code",
      "execution_count": 96,
      "metadata": {},
      "outputs": [
        {
          "name": "stdout",
          "output_type": "stream",
          "text": [
            "    GudangID                Negara             Kota  Kapasitas (Ton)\n",
            "0   PMI-W001             Indonesia         Surabaya          25000.0\n",
            "1   PMI-W002                 Rusia           Moskow          20000.0\n",
            "2   PMI-W003                Jerman          Hamburg          18000.0\n",
            "3   PMI-W004                Italia           Napoli          15000.0\n",
            "4   PMI-W005               Spanyol        Barcelona          22000.0\n",
            "..       ...                   ...              ...              ...\n",
            "95  ALT-W096         West Virginia       Huntington             70.0\n",
            "96  ALT-W097        South Carolina       Greenville             60.0\n",
            "97  ALT-W098                Hawaii       Pearl City             50.0\n",
            "98  ALT-W099                Alaska        Fairbanks             40.0\n",
            "99  ALT-W100  District of Columbia  Washington D.C.             30.0\n",
            "\n",
            "[186 rows x 4 columns]\n"
          ]
        }
      ],
      "source": [
        "# Show merged data table_gudang_p_df and table_gudang_al_df\n",
        "print(gudang_df)"
      ]
    },
    {
      "cell_type": "code",
      "execution_count": 97,
      "metadata": {},
      "outputs": [
        {
          "name": "stdout",
          "output_type": "stream",
          "text": [
            "     PabrikID          Negara            Kota  KapasitasProduksi (Ton/Tahun)\n",
            "0    PMI-F001       Indonesia        Karawang                         150000\n",
            "1    PMI-F002           Rusia  St. Petersburg                         120000\n",
            "2    PMI-F003          Jerman          Berlin                         100000\n",
            "3    PMI-F004          Italia         Bologna                          80000\n",
            "4    PMI-F005         Spanyol          Madrid                          90000\n",
            "..        ...             ...             ...                            ...\n",
            "98   ALT-F096        Delaware           Dover                             40\n",
            "99   ALT-F097   West Virginia      Huntington                             30\n",
            "100  ALT-F098  South Carolina      Greenville                             20\n",
            "101  ALT-F099          Hawaii      Pearl City                             15\n",
            "102  ALT-F100          Alaska       Fairbanks                             10\n",
            "\n",
            "[199 rows x 4 columns]\n"
          ]
        }
      ],
      "source": [
        "# Show merged data table_pabrik_p_df and table_pabrik_al_df\n",
        "print(pabrik_df)"
      ]
    },
    {
      "cell_type": "code",
      "execution_count": 98,
      "metadata": {},
      "outputs": [
        {
          "name": "stdout",
          "output_type": "stream",
          "text": [
            "   TransaksiID  Tahun                Negara  JumlahProduk  \\\n",
            "0     PMI-T001   2022             Indonesia       2500000   \n",
            "1     PMI-T002   2022                 Rusia       1800000   \n",
            "2     PMI-T003   2022                Jerman       1200000   \n",
            "3     PMI-T004   2022                Italia       1000000   \n",
            "4     PMI-T005   2022               Spanyol       1500000   \n",
            "..         ...    ...                   ...           ...   \n",
            "95    ALT-T096   2022         West Virginia          7000   \n",
            "96    ALT-T097   2022        South Carolina          6000   \n",
            "97    ALT-T098   2022                Hawaii          5000   \n",
            "98    ALT-T099   2022                Alaska          4000   \n",
            "99    ALT-T100   2022  District of Columbia          3000   \n",
            "\n",
            "    TotalPenjualan (USD)  GudangID  \n",
            "0              250000000  PMI-W001  \n",
            "1              180000000  PMI-W002  \n",
            "2              120000000  PMI-W003  \n",
            "3              100000000  PMI-W004  \n",
            "4              150000000  PMI-W005  \n",
            "..                   ...       ...  \n",
            "95                700000  ALT-W096  \n",
            "96                600000  ALT-W097  \n",
            "97                500000  ALT-W098  \n",
            "98                400000  ALT-W099  \n",
            "99                300000  ALT-W100  \n",
            "\n",
            "[200 rows x 6 columns]\n"
          ]
        }
      ],
      "source": [
        "# Show merged data table_transaksi_p_df and table_transaksi_al_df\n",
        "print(transaksi_df)"
      ]
    },
    {
      "cell_type": "markdown",
      "metadata": {
        "id": "Tm7PCtkQxMdl"
      },
      "source": [
        "### Transformasi Data\n",
        "- Mencari Tahu Transaksi Terbesar dan Terkecil di Gudang"
      ]
    },
    {
      "cell_type": "code",
      "execution_count": 99,
      "metadata": {},
      "outputs": [
        {
          "name": "stdout",
          "output_type": "stream",
          "text": [
            "Transaksi Terbesar: \n",
            "\n",
            "    TransaksiID  Tahun         Negara_x  JumlahProduk  TotalPenjualan (USD)  \\\n",
            "68    PMI-T073   2022  Amerika Serikat       3000000             300000000   \n",
            "\n",
            "    GudangID         Negara_y     Kota  Kapasitas (Ton)  \n",
            "68  PMI-W073  Amerika Serikat  Chicago          25000.0  \n"
          ]
        }
      ],
      "source": [
        "# Merge the transaction and warehouse data based on GudangID\n",
        "merged_data = pd.merge(transaksi_df, gudang_df, on='GudangID')\n",
        "\n",
        "# Find the largest transaction\n",
        "largest_transaction = merged_data[merged_data['JumlahProduk'] == merged_data['JumlahProduk'].max()]\n",
        "\n",
        "# Print the largest transaction\n",
        "print(\"Transaksi Terbesar: \"\"\\n\"\"\\n\", largest_transaction)\n"
      ]
    },
    {
      "cell_type": "code",
      "execution_count": 100,
      "metadata": {},
      "outputs": [
        {
          "name": "stdout",
          "output_type": "stream",
          "text": [
            "Transaksi Terkecil: \n",
            "\n",
            "     TransaksiID  Tahun              Negara_x  JumlahProduk  \\\n",
            "184    ALT-T100   2022  District of Columbia          3000   \n",
            "\n",
            "     TotalPenjualan (USD)  GudangID              Negara_y             Kota  \\\n",
            "184                300000  ALT-W100  District of Columbia  Washington D.C.   \n",
            "\n",
            "     Kapasitas (Ton)  \n",
            "184             30.0  \n"
          ]
        }
      ],
      "source": [
        "#Find the fewest transactions\n",
        "fewest_transaction = merged_data[merged_data['JumlahProduk'] == merged_data['JumlahProduk'].min()]\n",
        "\n",
        "# Print fewest transaction\n",
        "print(\"Transaksi Terkecil: \"\"\\n\"\"\\n\", fewest_transaction)\n"
      ]
    },
    {
      "cell_type": "markdown",
      "metadata": {},
      "source": [
        "- Mencari Tahu Kapasitas Terbesar dan Terkecil Gudang"
      ]
    },
    {
      "cell_type": "code",
      "execution_count": 101,
      "metadata": {},
      "outputs": [
        {
          "name": "stdout",
          "output_type": "stream",
          "text": [
            "Kapasitas Gudang Terbesar: 25000.0\n",
            "Kapasitas Gudang Terkecil: 30.0\n"
          ]
        }
      ],
      "source": [
        "# Find largest warehouse capacity\n",
        "kapasitas_terbesar = gudang_df[\"Kapasitas (Ton)\"].max()\n",
        "\n",
        "# Find smallest warehouse capacity\n",
        "kapasitas_terkecil = gudang_df[\"Kapasitas (Ton)\"].min()\n",
        "\n",
        "print(\"Kapasitas Gudang Terbesar:\", kapasitas_terbesar) \n",
        "print(\"Kapasitas Gudang Terkecil:\", kapasitas_terkecil)\n"
      ]
    }
  ],
  "metadata": {
    "colab": {
      "provenance": []
    },
    "kernelspec": {
      "display_name": "Python 3",
      "language": "python",
      "name": "python3"
    },
    "language_info": {
      "codemirror_mode": {
        "name": "ipython",
        "version": 3
      },
      "file_extension": ".py",
      "mimetype": "text/x-python",
      "name": "python",
      "nbconvert_exporter": "python",
      "pygments_lexer": "ipython3",
      "version": "3.12.1"
    },
    "orig_nbformat": 4,
    "vscode": {
      "interpreter": {
        "hash": "972b3bf27e332e87b5379f2791f6ef9dfc79c71018c370b0d7423235e20fe4d7"
      }
    }
  },
  "nbformat": 4,
  "nbformat_minor": 0
}
